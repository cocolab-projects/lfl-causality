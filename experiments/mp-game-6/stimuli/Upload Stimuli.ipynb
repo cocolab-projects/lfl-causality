{
 "cells": [
  {
   "cell_type": "code",
   "execution_count": 1,
   "metadata": {},
   "outputs": [],
   "source": [
    "from pymongo.collection import ReturnDocument\n",
    "import pymongo as pm\n",
    "import json\n",
    "import pandas as pd"
   ]
  },
  {
   "cell_type": "markdown",
   "metadata": {},
   "source": [
    "## Stimuli Upload\n",
    "`ratchet_id` refers to a set of rules to be queried for trials. Each collection of `ratchet_id` has a `_dev` version, except for `dev` collection itself.\n",
    "\n",
    "Current Values:\n",
    "1. `dev`: 2 single features rules, 2 conjunctive rules, 2 disjunctive rules, 2 conjunctive disjunction rules, & 2 disjunctive conjunction rules\n",
    "2. `50_rules`: 10 single feature rules, 10 conjunctive rules, 10 disjunctive rules, 10 conjunctive disjunction rules, & 10 disjunctive conjunction rules"
   ]
  },
  {
   "cell_type": "code",
   "execution_count": 3,
   "metadata": {},
   "outputs": [],
   "source": [
    "def gen_vars(local_machine=True):\n",
    "    if local_machine:\n",
    "        pswd = \"bar\"\n",
    "        user = \"foo\"\n",
    "        host = \"localhost\"\n",
    "    else:\n",
    "        auth = pd.read_csv('auth.csv', header = None)\n",
    "        pswd = auth.values[0][0].strip()\n",
    "        user = 'sketchloop'\n",
    "        host = 'localhost' \n",
    "    return user, pswd, host"
   ]
  },
  {
   "cell_type": "code",
   "execution_count": 4,
   "metadata": {},
   "outputs": [],
   "source": [
    "def get_creature_names(rule_type):\n",
    "    d = {\n",
    "        \"SINGLE_FEATURE\": [\"morseth\", \"morseths\"],\n",
    "        \"CONJUNCTION\": [\"oller\", \"ollers\"],\n",
    "        \"DISJUNCTION\": [\"kwep\", \"kweps\"],\n",
    "        \"CONJUNCTION_DISJUNCTION\": [\"zorb\", \"zorbs\"],\n",
    "        \"DISJUNCTION_CONJUNCTION\":[\"luzak\", \"luzaks\"],        \n",
    "    }\n",
    "    return d[rule_type]"
   ]
  },
  {
   "cell_type": "code",
   "execution_count": 5,
   "metadata": {},
   "outputs": [],
   "source": [
    "def convert_concept_summary_into_db_data(data):\n",
    "    db_data = {\n",
    "        \"SINGLE_FEATURE\": [],\n",
    "        \"CONJUNCTION\": [],\n",
    "        \"DISJUNCTION\": [],\n",
    "        \"CONJUNCTION_DISJUNCTION\": [],\n",
    "        \"DISJUNCTION_CONJUNCTION\": [],\n",
    "    }\n",
    "    for rule_idx, rule in data.items():\n",
    "        rule_type = rule[\"type\"]\n",
    "        speciesName = get_creature_names(rule_type)[0]\n",
    "        speciesNamePlural = get_creature_names(rule_type)[1]\n",
    "        db_data[rule_type].append({\n",
    "            \"rule_idx\": int(rule_idx),\n",
    "            \"file_name\": rule[\"name\"],\n",
    "            \"name\": rule[\"phrase\"],\n",
    "            \"games\": [],\n",
    "            \"numGames\": 0,\n",
    "            \"speciesName\": speciesName,\n",
    "            \"speciesNamePlural\": speciesNamePlural,\n",
    "        })\n",
    "    return db_data"
   ]
  },
  {
   "cell_type": "code",
   "execution_count": 6,
   "metadata": {},
   "outputs": [],
   "source": [
    "def load_data_into_db(concept_summary_file, col_prefix):\n",
    "    with open(concept_summary_file) as f:\n",
    "        data = json.load(f)\n",
    "        db_data = convert_concept_summary_into_db_data(data)\n",
    "        for rule_type, rules in db_data.items():\n",
    "            col = col_prefix.format(rule_type)\n",
    "            for rule in rules:\n",
    "                db[col].insert_one(rule)"
   ]
  },
  {
   "cell_type": "code",
   "execution_count": 7,
   "metadata": {},
   "outputs": [],
   "source": [
    "# Set Variables \n",
    "# user, pswd, host = gen_vars(local_machine=False)\n",
    "user, pswd, host = gen_vars(local_machine=True)\n",
    "\n",
    "if user == '' or pswd == '':\n",
    "    con_info = 'mongodb://{}'.format(host)   \n",
    "else:\n",
    "    con_info = 'mongodb://{}:{}@{}:27017'.format(user, pswd, host)\n",
    "\n",
    "conn = pm.MongoClient(con_info)\n",
    "db = conn['genGames']"
   ]
  },
  {
   "cell_type": "code",
   "execution_count": 8,
   "metadata": {},
   "outputs": [
    {
     "name": "stdout",
     "output_type": "stream",
     "text": [
      "[]\n"
     ]
    }
   ],
   "source": [
    "# Print Existing DB\n",
    "print(sorted(db.list_collection_names()))"
   ]
  },
  {
   "cell_type": "code",
   "execution_count": 9,
   "metadata": {},
   "outputs": [],
   "source": [
    "# # Drop Existing Collections\n",
    "# x = sorted(db.list_collection_names())\n",
    "# exclude = ['mpGame3', 'mpGame4', 'system.indexes']\n",
    "# for i in x:\n",
    "#     if i not in exclude:\n",
    "#         db[i].drop()"
   ]
  },
  {
   "cell_type": "code",
   "execution_count": 10,
   "metadata": {},
   "outputs": [
    {
     "name": "stdout",
     "output_type": "stream",
     "text": [
      "[]\n"
     ]
    }
   ],
   "source": [
    "# Print Existing DB\n",
    "print(sorted(db.list_collection_names()))"
   ]
  },
  {
   "cell_type": "code",
   "execution_count": 11,
   "metadata": {},
   "outputs": [],
   "source": [
    "# # Load 50 Rules Data (Pilot)\n",
    "# fifty_rules_col_prefix = 'pilot_fifty_rules_{}'\n",
    "# fifty_rules_concept_summary_file = './fifty_rules/concept_summary.json'\n",
    "# load_data_into_db(fifty_rules_concept_summary_file, fifty_rules_col_prefix)"
   ]
  },
  {
   "cell_type": "code",
   "execution_count": 12,
   "metadata": {},
   "outputs": [],
   "source": [
    "# # Load 50 Rules Data\n",
    "# fifty_rules_col_prefix = 'fifty_rules_{}'\n",
    "# fifty_rules_concept_summary_file = './fifty_rules/concept_summary.json'\n",
    "# load_data_into_db(fifty_rules_concept_summary_file, fifty_rules_col_prefix)"
   ]
  },
  {
   "cell_type": "code",
   "execution_count": 13,
   "metadata": {},
   "outputs": [],
   "source": [
    "# sorted(db.list_collection_names())"
   ]
  },
  {
   "cell_type": "code",
   "execution_count": 14,
   "metadata": {},
   "outputs": [],
   "source": [
    "def update_num_games(db, distr):\n",
    "    # Resetting numGames count for certain rules\n",
    "    # so that get triggered (as we don't have complete data on these)\n",
    "    # just yet.\n",
    "    for (rule_type, rule_idx, num_games) in distr:\n",
    "        record = db[rule_type].find_one({'rule_idx': rule_idx})\n",
    "        print(record['name'], record['numGames'])\n",
    "        updated_record = db[rule_type].find_one_and_update(\n",
    "            {'_id': record['_id']},\n",
    "            {'$set':\n",
    "                 {'numGames': num_games}\n",
    "            },\n",
    "            return_document=ReturnDocument.AFTER\n",
    "        )\n",
    "        print(record['name'], record['numGames'], updated_record['numGames'])"
   ]
  },
  {
   "cell_type": "code",
   "execution_count": 15,
   "metadata": {},
   "outputs": [
    {
     "ename": "TypeError",
     "evalue": "'NoneType' object is not subscriptable",
     "output_type": "error",
     "traceback": [
      "\u001b[0;31m---------------------------------------------------------------------------\u001b[0m",
      "\u001b[0;31mTypeError\u001b[0m                                 Traceback (most recent call last)",
      "\u001b[0;32m<ipython-input-15-3ad1610ef0ee>\u001b[0m in \u001b[0;36m<module>\u001b[0;34m\u001b[0m\n\u001b[1;32m     30\u001b[0m     \u001b[0;34m(\u001b[0m\u001b[0mDC\u001b[0m\u001b[0;34m,\u001b[0m \u001b[0;36m49\u001b[0m\u001b[0;34m,\u001b[0m \u001b[0;36m9\u001b[0m\u001b[0;34m)\u001b[0m\u001b[0;34m\u001b[0m\u001b[0;34m\u001b[0m\u001b[0m\n\u001b[1;32m     31\u001b[0m ]\n\u001b[0;32m---> 32\u001b[0;31m \u001b[0mupdate_num_games\u001b[0m\u001b[0;34m(\u001b[0m\u001b[0mdb\u001b[0m\u001b[0;34m,\u001b[0m \u001b[0mdistr\u001b[0m\u001b[0;34m)\u001b[0m\u001b[0;34m\u001b[0m\u001b[0;34m\u001b[0m\u001b[0m\n\u001b[0m",
      "\u001b[0;32m<ipython-input-14-c7c0a58f503e>\u001b[0m in \u001b[0;36mupdate_num_games\u001b[0;34m(db, distr)\u001b[0m\n\u001b[1;32m      5\u001b[0m     \u001b[0;32mfor\u001b[0m \u001b[0;34m(\u001b[0m\u001b[0mrule_type\u001b[0m\u001b[0;34m,\u001b[0m \u001b[0mrule_idx\u001b[0m\u001b[0;34m,\u001b[0m \u001b[0mnum_games\u001b[0m\u001b[0;34m)\u001b[0m \u001b[0;32min\u001b[0m \u001b[0mdistr\u001b[0m\u001b[0;34m:\u001b[0m\u001b[0;34m\u001b[0m\u001b[0;34m\u001b[0m\u001b[0m\n\u001b[1;32m      6\u001b[0m         \u001b[0mrecord\u001b[0m \u001b[0;34m=\u001b[0m \u001b[0mdb\u001b[0m\u001b[0;34m[\u001b[0m\u001b[0mrule_type\u001b[0m\u001b[0;34m]\u001b[0m\u001b[0;34m.\u001b[0m\u001b[0mfind_one\u001b[0m\u001b[0;34m(\u001b[0m\u001b[0;34m{\u001b[0m\u001b[0;34m'rule_idx'\u001b[0m\u001b[0;34m:\u001b[0m \u001b[0mrule_idx\u001b[0m\u001b[0;34m}\u001b[0m\u001b[0;34m)\u001b[0m\u001b[0;34m\u001b[0m\u001b[0;34m\u001b[0m\u001b[0m\n\u001b[0;32m----> 7\u001b[0;31m         \u001b[0mprint\u001b[0m\u001b[0;34m(\u001b[0m\u001b[0mrecord\u001b[0m\u001b[0;34m[\u001b[0m\u001b[0;34m'name'\u001b[0m\u001b[0;34m]\u001b[0m\u001b[0;34m,\u001b[0m \u001b[0mrecord\u001b[0m\u001b[0;34m[\u001b[0m\u001b[0;34m'numGames'\u001b[0m\u001b[0;34m]\u001b[0m\u001b[0;34m)\u001b[0m\u001b[0;34m\u001b[0m\u001b[0;34m\u001b[0m\u001b[0m\n\u001b[0m\u001b[1;32m      8\u001b[0m         updated_record = db[rule_type].find_one_and_update(\n\u001b[1;32m      9\u001b[0m             \u001b[0;34m{\u001b[0m\u001b[0;34m'_id'\u001b[0m\u001b[0;34m:\u001b[0m \u001b[0mrecord\u001b[0m\u001b[0;34m[\u001b[0m\u001b[0;34m'_id'\u001b[0m\u001b[0;34m]\u001b[0m\u001b[0;34m}\u001b[0m\u001b[0;34m,\u001b[0m\u001b[0;34m\u001b[0m\u001b[0;34m\u001b[0m\u001b[0m\n",
      "\u001b[0;31mTypeError\u001b[0m: 'NoneType' object is not subscriptable"
     ]
    }
   ],
   "source": [
    "S = 'fifty_rules_SINGLE_FEATURE'\n",
    "C = 'fifty_rules_CONJUNCTION'\n",
    "D = 'fifty_rules_DISJUNCTION'\n",
    "CD = 'fifty_rules_CONJUNCTION_DISJUNCTION'\n",
    "DC = 'fifty_rules_DISJUNCTION_CONJUNCTION'\n",
    "\n",
    "distr = [\n",
    "#     (S, 0, 9),\n",
    "#     (C, 10, 9),\n",
    "#     (D, 20, 9),\n",
    "#     (CD, 30, 9),\n",
    "#     (DC, 40, 9),\n",
    "    \n",
    "#     (S, 4, 9),\n",
    "#     (C, 14, 9),\n",
    "#     (D, 24, 9),\n",
    "#     (CD, 34, 9),\n",
    "#     (DC, 44, 9),\n",
    "    \n",
    "#     (S, 8, 9),\n",
    "#     (C, 18, 9),\n",
    "#     (D, 28, 9),\n",
    "#     (CD, 38, 9),\n",
    "#     (DC, 48, 9),\n",
    "    \n",
    "#     (S, 9, 9),\n",
    "    (C, 19, 9),\n",
    "    (D, 29, 9),\n",
    "    (CD, 39, 9),\n",
    "    (DC, 49, 9)\n",
    "]\n",
    "update_num_games(db, distr)"
   ]
  },
  {
   "cell_type": "code",
   "execution_count": null,
   "metadata": {},
   "outputs": [],
   "source": []
  }
 ],
 "metadata": {
  "kernelspec": {
   "display_name": "Python 3",
   "language": "python",
   "name": "python3"
  },
  "language_info": {
   "codemirror_mode": {
    "name": "ipython",
    "version": 3
   },
   "file_extension": ".py",
   "mimetype": "text/x-python",
   "name": "python",
   "nbconvert_exporter": "python",
   "pygments_lexer": "ipython3",
   "version": "3.7.3"
  }
 },
 "nbformat": 4,
 "nbformat_minor": 2
}
